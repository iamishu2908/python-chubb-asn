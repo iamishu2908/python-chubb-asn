{
  "nbformat": 4,
  "nbformat_minor": 0,
  "metadata": {
    "colab": {
      "provenance": [],
      "toc_visible": true
    },
    "kernelspec": {
      "name": "python3",
      "display_name": "Python 3"
    },
    "language_info": {
      "name": "python"
    }
  },
  "cells": [
    {
      "cell_type": "markdown",
      "source": [
        "#Python Weekly Assignment –  20-Oct-24"
      ],
      "metadata": {
        "id": "fX4P1UG7CsDV"
      }
    },
    {
      "cell_type": "markdown",
      "source": [
        "### Q1. Analyzing Student Performance\n",
        "A school administrator wants to analyze students' scores from a file that contains records of students and their exam results in the format name,score. Unfortunately, sometimes the file might be missing, corrupted, or contain invalid data. Write a program that reads the file, calculates the average score, and lists students who scored above average. Ensure proper handling of missing files and malformed data.\n"
      ],
      "metadata": {
        "id": "XeJq0wviCk8m"
      }
    },
    {
      "cell_type": "code",
      "source": [
        "def write_to_file(file_path):\n",
        "    try:\n",
        "        with open(file_path, 'w') as file:\n",
        "            while True:\n",
        "                name = input(\"\")\n",
        "                if name.lower() == 'q': # q to quit inputting\n",
        "                    break\n",
        "                score = input()\n",
        "                file.write(f\"{name},{score}\\n\")\n",
        "        with open(file_path, 'r') as file:\n",
        "            print(\"File content:\")\n",
        "            print(file.read())\n",
        "            file.close()\n",
        "    except Exception as e:\n",
        "        print(f\"An error occurred: {e}\")"
      ],
      "metadata": {
        "id": "QyH2sB0LBoUt"
      },
      "execution_count": 9,
      "outputs": []
    },
    {
      "cell_type": "code",
      "source": [
        "file_path = \"/content/txt1.txt\"\n",
        "write_to_file(file_path)"
      ],
      "metadata": {
        "id": "yceMG8B8CX5n",
        "colab": {
          "base_uri": "https://localhost:8080/"
        },
        "outputId": "70803d12-26e7-49d3-8f2f-9b23b3f3f20b"
      },
      "execution_count": 10,
      "outputs": [
        {
          "output_type": "stream",
          "name": "stdout",
          "text": [
            "Ishu\n",
            "90\n",
            "Maruti\n",
            "23\n",
            "Riya\n",
            "99\n",
            "Varun\n",
            "56\n",
            "Kartik\n",
            "48\n",
            "q\n",
            "File content:\n",
            "Ishu,90\n",
            "Maruti,23\n",
            "Riya,99\n",
            "Varun,56\n",
            "Kartik,48\n",
            "\n"
          ]
        }
      ]
    },
    {
      "cell_type": "code",
      "execution_count": 12,
      "metadata": {
        "colab": {
          "base_uri": "https://localhost:8080/"
        },
        "id": "zg4Y78aS-stb",
        "outputId": "b8e018ab-1851-449d-9cf7-afbe4b29f0f5"
      },
      "outputs": [
        {
          "output_type": "stream",
          "name": "stdout",
          "text": [
            "Average Score: 63.20\n",
            "Students who scored above average:\n",
            "Ishu: 90.00\n",
            "Riya: 99.00\n"
          ]
        }
      ],
      "source": [
        "\n",
        "def average_score(file_path):\n",
        "    try:\n",
        "        with open(r\"/content/txt1.txt\") as file:\n",
        "            scores = []\n",
        "            for line in file:\n",
        "                line = line.strip()\n",
        "                if line:\n",
        "                    try:\n",
        "                        name,score_string = line.split(',')\n",
        "                        score = float(score_string)\n",
        "                        scores.append((name, score))\n",
        "                    # Invalid data check\n",
        "                    except ValueError:\n",
        "                        print(f\"Invalid data format in line: '{line}'\")\n",
        "                # no input in file/ it is empty\n",
        "                if not scores:\n",
        "                    print(\"No valid scores found.\")\n",
        "                    return\n",
        "\n",
        "            total = sum(score for _,score in scores)\n",
        "            avg = total/len(scores)\n",
        "            print(f\"Average Score: {avg:.2f}\")\n",
        "            print(\"Students who scored above average:\")\n",
        "\n",
        "            for name,score in scores:\n",
        "                if score > avg:\n",
        "                    print(f\"{name}: {score:.2f}\")\n",
        "\n",
        "    # file path is wrong/doesnt exist\n",
        "    except FileNotFoundError:\n",
        "        print(f\"The file '{file_path}' does not exist.\")\n",
        "    # other exceptions\n",
        "    except Exception as e:\n",
        "        print(f\"An unexpected error occurred: {e}\")\n",
        "\n",
        "\n",
        "\n",
        "average_score(file_path)\n",
        "\n"
      ]
    },
    {
      "cell_type": "markdown",
      "source": [
        "### 2.\t Product Availability in a Store\n",
        "You work for an online store, and you need to help the operations team clean up their product list. They have a list of product IDs that contains duplicates due to system errors. Write a function that takes this list, removes duplicates, sorts the product IDs, and returns the cleaned list. Make sure your function can handle an empty product list input.\n"
      ],
      "metadata": {
        "id": "JrEzoSPMDR78"
      }
    },
    {
      "cell_type": "code",
      "source": [
        "def product_availability(product_ids: list[int]):\n",
        "    return [] if not product_ids else sorted(set(product_ids))\n",
        "\n",
        "result = product_availability([1023, 500, 1023, 2048, 1001, 500, 3000])\n",
        "print(\"Cleaned Product IDs:\", result)"
      ],
      "metadata": {
        "id": "oON-e4QwDVC1",
        "colab": {
          "base_uri": "https://localhost:8080/"
        },
        "outputId": "0ad31b42-e026-4220-da06-e0164513aafd"
      },
      "execution_count": 1,
      "outputs": [
        {
          "output_type": "stream",
          "name": "stdout",
          "text": [
            "Cleaned Product IDs: [500, 1001, 1023, 2048, 3000]\n"
          ]
        }
      ]
    },
    {
      "cell_type": "markdown",
      "source": [
        "### 3.\tOrganizing Sales Data\n",
        "A small business owner has sales data in the form of tuples, each containing the customer’s name and the amount they spent (e.g., ('Alice', 200)). Write a program that stores this data in a dictionary, where the customer’s name is the key and the amount spent is the value. If a customer appears more than once, update their total spending. Print the customer data sorted by their names.\n"
      ],
      "metadata": {
        "id": "qkM61Y_AcxxQ"
      }
    },
    {
      "cell_type": "code",
      "source": [
        "def sales_data(sales):\n",
        "    dic= {}\n",
        "    for name, amount in sales:\n",
        "        dic[name]= dic.get(name,0) + amount\n",
        "    return sorted(dic.items())\n",
        "\n",
        "input = [\n",
        "    ('Amala', 200),\n",
        "    ('Babu', 150),\n",
        "    ('Amala', 50),\n",
        "    ('Charlie', 100),\n",
        "    ('Babu', 75),\n",
        "    ('David', 300)\n",
        "]\n",
        "\n",
        "for customer, total in sales_data(input):\n",
        "    print(f\"{customer}:${total}\")\n"
      ],
      "metadata": {
        "colab": {
          "base_uri": "https://localhost:8080/"
        },
        "id": "b6Xn_WHfc4Rz",
        "outputId": "deca6cf6-cfb5-416e-94e2-f7974684092a"
      },
      "execution_count": 53,
      "outputs": [
        {
          "output_type": "stream",
          "name": "stdout",
          "text": [
            "Amala:$250\n",
            "Babu:$225\n",
            "Charlie:$100\n",
            "David:$300\n"
          ]
        }
      ]
    },
    {
      "cell_type": "markdown",
      "source": [
        "### 4.\tSaving User Preferences\n",
        "A mobile app allows users to customize settings like theme (dark/light mode), language, and notification preferences. Write a program that saves a user's preferences using the pickle module and retrieves them when needed. Handle cases where the preferences file is missing or corrupted.\n"
      ],
      "metadata": {
        "id": "XUXEKsbodJI7"
      }
    },
    {
      "cell_type": "code",
      "source": [
        "import pickle\n",
        "import os\n",
        "\n",
        "file='user_pref.pkl'\n",
        "\n",
        "default ={\n",
        "    'theme': 'light',\n",
        "    'language': 'English',\n",
        "    'notifications': True\n",
        "}\n",
        "\n",
        "def save_pref(preferences):\n",
        "    try:\n",
        "        with open(file,'wb') as f:\n",
        "            pickle.dump(preferences,f)\n",
        "        print(\"Your new preferences are saved successfully! :)\")\n",
        "    except Exception as e:\n",
        "        print(f\"Error saving preferences: {e}\")\n",
        "\n",
        "def load_pref():\n",
        "    if not os.path.exists(file):\n",
        "        print(\"Oops! Preferences file not found.. Loading default preferences....\")\n",
        "        return default\n",
        "    try:\n",
        "        with open(file,'rb') as f:\n",
        "            preferences = pickle.load(f)\n",
        "        print(\"Preferences loaded successfully! :)\")\n",
        "        return preferences\n",
        "    except:\n",
        "        print(\"Preferences file is corrupted or unreadable. Loading default preferences.\")\n",
        "        return default\n",
        "\n",
        "user_pref =load_pref()\n",
        "print(\"Current Preferences:\",user_pref)\n",
        "user_pref['theme']='dark'\n",
        "user_pref['language']='Tamil'\n",
        "print(\"Updated Preferences:\",user_pref)\n",
        "save_pref(user_pref)\n"
      ],
      "metadata": {
        "colab": {
          "base_uri": "https://localhost:8080/"
        },
        "id": "15hbCj4DdMos",
        "outputId": "45360b8a-3f82-48dd-b6b6-dcc2cbcc58f6"
      },
      "execution_count": 54,
      "outputs": [
        {
          "output_type": "stream",
          "name": "stdout",
          "text": [
            "Oops! Preferences file not found.. Loading default preferences....\n",
            "Current Preferences: {'theme': 'light', 'language': 'English', 'notifications': True}\n",
            "Updated Preferences: {'theme': 'dark', 'language': 'Tamil', 'notifications': True}\n",
            "Your new preferences are saved successfully! :)\n"
          ]
        }
      ]
    },
    {
      "cell_type": "markdown",
      "source": [
        "### 5.\tAnalyzing Employee Salaries\n",
        "A company’s HR department maintains employee records in a CSV file, which includes details like employee name, department, and salary. You’ve been tasked with analyzing this data to calculate the total and average salary per department. Write a program that reads the CSV using pandas, computes the required data, and saves the results to a new CSV. Handle situations where the file is missing or contains invalid data.\n"
      ],
      "metadata": {
        "id": "pZ9NlQgCiIsX"
      }
    },
    {
      "cell_type": "code",
      "source": [
        "'''\n",
        "employee csv:\n",
        "employee_name,department,salary\n",
        "Amala,Appdev,60000\n",
        "Babu,Mgmt,70000\n",
        "Rama,Sales,65000\n",
        "Lina,Appdev,80000\n",
        "Ishu,Mgmt,75000\n",
        "'''"
      ],
      "metadata": {
        "colab": {
          "base_uri": "https://localhost:8080/",
          "height": 35
        },
        "id": "wKp8ygVuw4Iw",
        "outputId": "d3f9e37b-e379-4abd-8dc0-6cafc6d300b0"
      },
      "execution_count": 43,
      "outputs": [
        {
          "output_type": "execute_result",
          "data": {
            "text/plain": [
              "'\\nemployee csv:\\nemployee_name,department,salary\\nAmala,Appdev,60000\\nBabu,Mgmt,70000\\nRama,Sales,65000\\nLina,Appdev,80000\\nIshu,Mgmt,75000\\n'"
            ],
            "application/vnd.google.colaboratory.intrinsic+json": {
              "type": "string"
            }
          },
          "metadata": {},
          "execution_count": 43
        }
      ]
    },
    {
      "cell_type": "code",
      "source": [
        "import pandas as pd\n",
        "\n",
        "def analyze(input_csv, output_csv):\n",
        "    try:\n",
        "        df = pd.read_csv(input_csv)\n",
        "        dept_sal = df.groupby('department')['salary'].agg(['sum', 'mean'])\n",
        "        dept_sal = dept_sal.rename(columns={\n",
        "            'sum': 'total_salary',\n",
        "            'mean': 'average_salary'\n",
        "            })\n",
        "        dept_sal.to_csv(output_csv)\n",
        "        print(f\"Results saved to '{output_csv}'\")\n",
        "        print(dept_sal)\n",
        "    except FileNotFoundError:\n",
        "        print(f\"Input CSV file not found at '{input_csv}'.\")\n",
        "    except pd.errors.ParserError:\n",
        "        print(f\"Invalid CSV file format! :(\")\n",
        "    except KeyError:\n",
        "        print(\"Columns not found.\")\n",
        "    except Exception as e:\n",
        "        print(f\"An unexpected error occurred: {e}\")\n",
        "\n",
        "input_csv = '/content/employee_data.csv'\n",
        "output_csv = '/content/salary_analysis.csv'\n",
        "\n",
        "analyze(input_csv, output_csv)\n"
      ],
      "metadata": {
        "colab": {
          "base_uri": "https://localhost:8080/"
        },
        "id": "1JAFLw3IiMWv",
        "outputId": "972f4911-bc44-471c-9305-da975aad926f"
      },
      "execution_count": 46,
      "outputs": [
        {
          "output_type": "stream",
          "name": "stdout",
          "text": [
            "Results saved to '/content/salary_analysis.csv'\n",
            "            total_salary  average_salary\n",
            "department                              \n",
            "Appdev            140000         70000.0\n",
            "Mgmt              145000         72500.0\n",
            "Sales              65000         65000.0\n"
          ]
        }
      ]
    },
    {
      "cell_type": "markdown",
      "source": [
        "### 6.\t Validating User Signups\n",
        "Your company’s website allows users to sign up with their email addresses. Write a Python program that checks if the provided email addresses are valid using regular expressions. Make sure the emails follow the proper format (e.g., username@domain.com). Your program should filter out invalid emails from a given list of signups.\n"
      ],
      "metadata": {
        "id": "AJw1JmggiQFP"
      }
    },
    {
      "cell_type": "code",
      "source": [
        "import re\n",
        "\n",
        "def validate_emails(emails):\n",
        "    valid_emails = []\n",
        "    pattern = r\"^\\w+@\\w+\\.\\w{2,3}$\"\n",
        "    for email in emails:\n",
        "        if re.match(pattern, email):\n",
        "            valid_emails.append(email)\n",
        "        else:\n",
        "            print(f\"Invalid email: {email}\")\n",
        "    return valid_emails\n",
        "\n",
        "signups = ['ish123_12@gmail.com','ishu@gmail.com', 'invalid_email', 'ishu@gmail.co.uk', 'ishu@.com']\n",
        "valid_signups = validate_emails(signups)\n",
        "print(\"Valid emails:\", valid_signups)\n"
      ],
      "metadata": {
        "colab": {
          "base_uri": "https://localhost:8080/"
        },
        "id": "VZtfkgSviS78",
        "outputId": "29834e25-cbda-4d81-c8d5-1beb10edf68f"
      },
      "execution_count": 51,
      "outputs": [
        {
          "output_type": "stream",
          "name": "stdout",
          "text": [
            "Invalid email: invalid_email\n",
            "Invalid email: ishu@gmail.co.uk\n",
            "Invalid email: ishu@.com\n",
            "Valid emails: ['ish123_12@gmail.com', 'ishu@gmail.com']\n"
          ]
        }
      ]
    },
    {
      "cell_type": "markdown",
      "source": [
        "### 7.\t Currency Conversion Calculator\n",
        "You’re building a currency conversion tool for a travel website. The tool should take two user inputs: the amount to convert and the conversion rate. Implement a program that handles cases where the user enters invalid data, such as non-numeric input or a conversion rate of zero, and provides appropriate error messages.\n"
      ],
      "metadata": {
        "id": "eTkko9wjiTI8"
      }
    },
    {
      "cell_type": "code",
      "source": [
        "def convert_currency(amount,rate):\n",
        "    while True:\n",
        "        try:\n",
        "            amount=float(amount)\n",
        "            rate=float(rate)\n",
        "\n",
        "            if rate == 0:\n",
        "                raise ValueError(\"conversion rate cannot be zero :(\")\n",
        "\n",
        "            print(f\"Converted amount is {amount * rate:.2f}\")\n",
        "            break\n",
        "        except ValueError as ve:\n",
        "            print(f\"Wrong input!\")\n",
        "        except Exception as e:\n",
        "            print(f\"An unexpected error occurred: {e}\")\n",
        "\n",
        "amount=input(\"Enter the amount to convert: \")\n",
        "rate=input(\"Enter the conversion rate: \")\n",
        "convert_currency(amount,rate)"
      ],
      "metadata": {
        "colab": {
          "base_uri": "https://localhost:8080/"
        },
        "id": "GDdvcXuGiXU4",
        "outputId": "c5b39c75-6b2a-46eb-ad47-f41003ac3d47"
      },
      "execution_count": 52,
      "outputs": [
        {
          "output_type": "stream",
          "name": "stdout",
          "text": [
            "Enter the amount to convert: 2000\n",
            "Enter the conversion rate: 0.90\n",
            "Converted amount is 1800.00\n"
          ]
        }
      ]
    },
    {
      "cell_type": "markdown",
      "source": [
        "### 8.\t Movie Ratings Aggregation\n",
        "A movie streaming service collects user ratings for movies. Each movie can be rated on a scale of 1 to 10. Write a program that takes a list of movie ratings and uses list comprehension to filter out ratings below 5 (bad ratings) and return a new list of good ratings squared. Handle cases where no ratings are provided.\n"
      ],
      "metadata": {
        "id": "iJ7BBruEjA_g"
      }
    },
    {
      "cell_type": "code",
      "source": [
        "def movie_ratings(ratings):\n",
        "    if not ratings:\n",
        "        return \"No ratings provided\"\n",
        "    return [rating**2 for rating in ratings if rating >= 5]\n",
        "\n",
        "result = movie_ratings([3, 7, 9, 2, 5, 10])\n",
        "print(result)"
      ],
      "metadata": {
        "colab": {
          "base_uri": "https://localhost:8080/"
        },
        "id": "EfHS5vQkjDuW",
        "outputId": "773ca88f-b51e-4f7c-c7c1-f65e76c54b73"
      },
      "execution_count": 17,
      "outputs": [
        {
          "output_type": "stream",
          "name": "stdout",
          "text": [
            "[49, 81, 25, 100]\n"
          ]
        }
      ]
    },
    {
      "cell_type": "markdown",
      "source": [
        "### 9.\t Extracting Contact Information\n",
        "A company stores client data in text files, and some of the records contain phone numbers in inconsistent formats, such as (123) 456-7890 or 123-456-7890. Write a program that reads a text file, uses regular expressions to extract all phone numbers in either format, and prints the list of valid phone numbers.\n"
      ],
      "metadata": {
        "id": "moZ82TRIjLJX"
      }
    },
    {
      "cell_type": "code",
      "source": [
        "'''\n",
        "data in clients.txt:\n",
        "123-456-8930\n",
        "(125) 349-9409\n",
        "928-247-2342\n",
        "\n",
        "\n",
        "'''"
      ],
      "metadata": {
        "colab": {
          "base_uri": "https://localhost:8080/",
          "height": 35
        },
        "id": "VVtVu-GR3rLa",
        "outputId": "75f541e6-a0ba-4355-bcf0-d66a5c65bc06"
      },
      "execution_count": 73,
      "outputs": [
        {
          "output_type": "execute_result",
          "data": {
            "text/plain": [
              "'\\ndata in clients.txt:\\n123-456-8930\\n(125) 349-9409\\n928-247-2342\\n\\n\\n'"
            ],
            "application/vnd.google.colaboratory.intrinsic+json": {
              "type": "string"
            }
          },
          "metadata": {},
          "execution_count": 73
        }
      ]
    },
    {
      "cell_type": "code",
      "source": [
        "'''\n",
        "For 123-456-8930:\n",
        "\n",
        "\\d{3}-\\d{3}-\\d{4}\n",
        "\n",
        "For (125) 349-9409:\n",
        "\\(\\d{3}\\) \\d{3}-\\d{4}\n",
        "\n",
        "'''"
      ],
      "metadata": {
        "colab": {
          "base_uri": "https://localhost:8080/",
          "height": 35
        },
        "id": "1-0Wpo6ljL6z",
        "outputId": "23d508ae-1e24-49c4-8240-c3c96ccd5687"
      },
      "execution_count": 74,
      "outputs": [
        {
          "output_type": "execute_result",
          "data": {
            "text/plain": [
              "'\\nFor 123-456-8930:\\n\\n\\\\d{3}-\\\\d{3}-\\\\d{4}\\n\\nFor (125) 349-9409:\\n\\\\(\\\\d{3}\\\\) \\\\d{3}-\\\\d{4}\\n\\n'"
            ],
            "application/vnd.google.colaboratory.intrinsic+json": {
              "type": "string"
            }
          },
          "metadata": {},
          "execution_count": 74
        }
      ]
    },
    {
      "cell_type": "code",
      "source": [
        "import re\n",
        "\n",
        "def extract_phone_numbers(file_path):\n",
        "    with open(file_path, 'r') as file:\n",
        "        text = file.read()\n",
        "\n",
        "    phone_pattern=re.compile(r'\\(\\d{3}\\)\\s?\\d{3}-\\d{4}|\\d{3}-\\d{3}-\\d{4}')\n",
        "    phone_numbers=phone_pattern.findall(text)\n",
        "    return phone_numbers\n",
        "\n",
        "phone_numbers=extract_phone_numbers('/content/clients.txt')\n",
        "for number in phone_numbers:\n",
        "    print(number)\n"
      ],
      "metadata": {
        "colab": {
          "base_uri": "https://localhost:8080/"
        },
        "id": "hz5GxHlm2sY3",
        "outputId": "7da78299-f2d3-46b3-c5ce-0a640ef41752"
      },
      "execution_count": 78,
      "outputs": [
        {
          "output_type": "stream",
          "name": "stdout",
          "text": [
            "123-456-8930\n",
            "(125) 349-9409\n",
            "928-247-2342\n"
          ]
        }
      ]
    },
    {
      "cell_type": "markdown",
      "source": [
        "### 10.\t Removing Duplicate User Data\n",
        "A loyalty program has a list of customer records, each stored as a tuple with the customer’s name and email address (e.g., ('John Doe', 'john@example.com')). Due to an import error, some customers are listed multiple times. Write a Python program that removes duplicate entries using a set and prints the unique list of customers.\n"
      ],
      "metadata": {
        "id": "kDp4REl3j7on"
      }
    },
    {
      "cell_type": "code",
      "source": [
        "def remove_duplicates(customers):\n",
        "    return list(set(customers))\n",
        "\n",
        "result = remove_duplicates([\n",
        "    ('Ishwarya d', 'ishu123@gmail.com'),\n",
        "    ('Maria khan', 'mary123@gmail.com'),\n",
        "    ('Juliya K', 'juliak893@yahoo.com'),\n",
        "    ('Emily Davis', 'emily23@gmail.com'),\n",
        "    ('Maria khan', 'mary123@gmail.com'),\n",
        "    ('Juliya K', 'juliak893@yahoo.com'),\n",
        "])\n",
        "print(result)"
      ],
      "metadata": {
        "colab": {
          "base_uri": "https://localhost:8080/"
        },
        "id": "DSRv5e0hj-lE",
        "outputId": "fb41142e-2898-4f89-f7b0-724d2251f49a"
      },
      "execution_count": 20,
      "outputs": [
        {
          "output_type": "stream",
          "name": "stdout",
          "text": [
            "[('Maria khan', 'mary123@gmail.com'), ('Emily Davis', 'emily23@gmail.com'), ('Juliya K', 'juliak893@yahoo.com'), ('Ishwarya d', 'ishu123@gmail.com')]\n"
          ]
        }
      ]
    },
    {
      "cell_type": "markdown",
      "source": [
        "### 11. Product Inventory Analysis\n",
        "Your company manages product inventory through a CSV file that contains product ID, name, and quantity available. Write a program using pandas to filter products with low stock (less than 10 units). Handle potential issues like a missing or malformed CSV file, or missing columns in the data.\n"
      ],
      "metadata": {
        "id": "4SSeFrdTj-tk"
      }
    },
    {
      "cell_type": "code",
      "source": [
        "'''\n",
        "csv content:\n",
        "\n",
        "product_id,name,quantity\n",
        "1,Product A,15\n",
        "2,Product B,5\n",
        "3,Product C,20\n",
        "4,Product D,8\n",
        "5,Product E,12\n",
        "\n",
        "'''"
      ],
      "metadata": {
        "colab": {
          "base_uri": "https://localhost:8080/",
          "height": 35
        },
        "id": "g5emeD8SkAlK",
        "outputId": "5e534cdd-5505-4d22-fc97-7d0d69aadba0"
      },
      "execution_count": 35,
      "outputs": [
        {
          "output_type": "execute_result",
          "data": {
            "text/plain": [
              "'\\ncsv content:\\n\\nproduct_id,name,quantity\\n1,Product A,15\\n2,Product B,5\\n3,Product C,20\\n4,Product D,8\\n5,Product E,12\\n\\n'"
            ],
            "application/vnd.google.colaboratory.intrinsic+json": {
              "type": "string"
            }
          },
          "metadata": {},
          "execution_count": 35
        }
      ]
    },
    {
      "cell_type": "code",
      "source": [
        "import pandas as pd\n",
        "\n",
        "def filter_low_stocks(csv_file):\n",
        "    try:\n",
        "        df=pd.read_csv(csv_file)\n",
        "        cols=['product_id', 'name', 'quantity']\n",
        "        if not all(col in df.columns for col in cols):\n",
        "            print(\"Error..Missing required columns!\")\n",
        "            return None\n",
        "        low_stocks = df[df['quantity'] < 10]\n",
        "        return low_stocks\n",
        "    except FileNotFoundError:\n",
        "        print(f\"FileNotFoundError: File not found at '{csv_file}'.\")\n",
        "        return None\n",
        "    except pd.errors.ParserError:\n",
        "        print(f\"Invalid file format at '{csv_file}'.\")\n",
        "        return None\n",
        "    except Exception as e:\n",
        "        print(f\"An unexpected error occurred: {e}\")\n",
        "        return None\n",
        "\n",
        "file='/content/inventory.csv'\n",
        "df = filter_low_stocks(file)\n",
        "\n",
        "if df is not None:\n",
        "    print(\"Low Stock Products:\")\n",
        "    print(df)\n",
        "else:\n",
        "    print(\"Inventory is empty! :(\")\n"
      ],
      "metadata": {
        "colab": {
          "base_uri": "https://localhost:8080/"
        },
        "id": "7vHMC-CMp0xH",
        "outputId": "ead39cf3-9b02-4c6f-8c08-b2f1b4e72f1b"
      },
      "execution_count": 40,
      "outputs": [
        {
          "output_type": "stream",
          "name": "stdout",
          "text": [
            "Low Stock Products:\n",
            "   product_id       name  quantity\n",
            "1           2  Product B         5\n",
            "3           4  Product D         8\n"
          ]
        }
      ]
    },
    {
      "cell_type": "markdown",
      "source": [
        "### 12.\tStatistical Analysis for a Sports Team\n",
        "A sports analyst wants to analyze the performance statistics of players on a team. Each player’s performance over the season is recorded as an array of scores. Write a program that generates a large array of player scores using numpy, and calculates the mean, median, variance, and standard deviation of the players’ performance.\n"
      ],
      "metadata": {
        "id": "hkaatmTfkCmw"
      }
    },
    {
      "cell_type": "code",
      "source": [
        "import numpy as np\n",
        "def analyze_player(scores):\n",
        "    mean_score = np.mean(scores)\n",
        "    median_score = np.median(scores)\n",
        "    variance_score = np.var(scores)\n",
        "    standard_deviation_score = np.std(scores)\n",
        "\n",
        "    return {\n",
        "        'mean': mean_score,\n",
        "        'median': median_score,\n",
        "        'variance': variance_score,\n",
        "        'standard_deviation': standard_deviation_score\n",
        "    }\n",
        "\n",
        "\n",
        "performance_stats=analyze_player(np.random.randint(0, 50, size=(30,20))) ## generate random numpy array\n",
        "\n",
        "print(f\"Mean: {performance_stats['mean']:.2f}\")\n",
        "print(f\"Median: {performance_stats['median']:.2f}\")\n",
        "print(f\"Variance: {performance_stats['variance']:.2f}\")\n",
        "print(f\"Standard Deviation: {performance_stats['standard_deviation']:.2f}\")"
      ],
      "metadata": {
        "colab": {
          "base_uri": "https://localhost:8080/"
        },
        "id": "DXwg2XegkE7N",
        "outputId": "ffb079f5-5b8a-455b-97a4-2862f6c20d9d"
      },
      "execution_count": 55,
      "outputs": [
        {
          "output_type": "stream",
          "name": "stdout",
          "text": [
            "Mean: 24.49\n",
            "Median: 24.00\n",
            "Variance: 210.15\n",
            "Standard Deviation: 14.50\n"
          ]
        }
      ]
    },
    {
      "cell_type": "markdown",
      "source": [
        "### 13.\t Managing Task Lists\n",
        "A task management system allows users to create and store to-do lists. Write a Python program that stores a user's list of tasks using pickle, allowing them to save and retrieve their tasks later. Ensure proper exception handling if the data file becomes corrupted or is missing.\n"
      ],
      "metadata": {
        "id": "8-jkeuIHkFFm"
      }
    },
    {
      "cell_type": "code",
      "source": [
        "import pickle\n",
        "import os\n",
        "\n",
        "class TaskManager:\n",
        "    def __init__(self, file_path='tasks.pkl'):\n",
        "        self.file_path = file_path\n",
        "        self.tasks = self.load_tasks()\n",
        "\n",
        "    def save_tasks(self):\n",
        "        try:\n",
        "            with open(self.file_path, 'wb') as f:\n",
        "                pickle.dump(self.tasks, f)\n",
        "            print(\"Tasks saved!\")\n",
        "        except Exception as e:\n",
        "            print(f\"Error saving tasks: {e}\")\n",
        "\n",
        "    def load_tasks(self):\n",
        "        if not os.path.exists(self.file_path):\n",
        "            print(f\"File '{self.file_path}' not found.\")\n",
        "            return []\n",
        "        try:\n",
        "            with open(self.file_path, 'rb') as f:\n",
        "                return pickle.load(f)\n",
        "        except:\n",
        "            print(f\"File '{self.file_path}' is corrupted or unreadable.\")\n",
        "            return []\n",
        "\n",
        "    def add_task(self, task):\n",
        "        self.tasks.append(task)\n",
        "        print(f\"Task '{task}' added.\")\n",
        "\n",
        "    def display_tasks(self):\n",
        "        if self.tasks:\n",
        "            print(\"Current Tasks:\")\n",
        "            for idx, task in enumerate(self.tasks, 1):\n",
        "                print(f\"{idx}. {task}\")\n",
        "        else:\n",
        "            print(\"No tasks available.\")\n",
        "\n",
        "file_path = \"/content/tasks.pkl\"\n",
        "task_manager = TaskManager(file_path)\n",
        "task_manager.display_tasks()\n",
        "\n",
        "while True:\n",
        "    new_task = input(\"Enter a new task (or 'q' to quit input): \").strip()\n",
        "    if new_task.lower() == 'q':\n",
        "        break\n",
        "    task_manager.add_task(new_task)\n",
        "\n",
        "task_manager.save_tasks()\n",
        "task_manager.display_tasks()\n"
      ],
      "metadata": {
        "colab": {
          "base_uri": "https://localhost:8080/"
        },
        "id": "bmfYyXhykHf3",
        "outputId": "b3a8282d-aa49-44ff-a79b-c7d2d2e44ab2"
      },
      "execution_count": 37,
      "outputs": [
        {
          "output_type": "stream",
          "name": "stdout",
          "text": [
            "Current Tasks:\n",
            "1. Bring dog for walking\n",
            "2. Play LUDO\n",
            "3. Finish the ML project by 11AM\n",
            "4. Singing practice as 6pm\n",
            "5. Do math homework\n",
            "Enter a new task (or 'q' to quit input): Solve 2d sum\n",
            "Task 'Solve 2d sum' added.\n",
            "Enter a new task (or 'q' to quit input): q\n",
            "Tasks saved!\n",
            "Current Tasks:\n",
            "1. Bring dog for walking\n",
            "2. Play LUDO\n",
            "3. Finish the ML project by 11AM\n",
            "4. Singing practice as 6pm\n",
            "5. Do math homework\n",
            "6. Solve 2d sum\n"
          ]
        }
      ]
    },
    {
      "cell_type": "markdown",
      "source": [
        "### 14.\t Social Media Post Analysis\n",
        "A social media platform needs to analyze hashtags used in posts. Write a Python program that extracts all unique hashtags from a given post using regular expressions. Ensure that the hashtags only contain letters and numbers (e.g., #Python3) and print them in a sorted list.\n"
      ],
      "metadata": {
        "id": "2d4Sfol3kHwE"
      }
    },
    {
      "cell_type": "code",
      "source": [
        "import re\n",
        "def find_hashtags(post):\n",
        "    hashtags = re.findall(r'#\\w+', post)\n",
        "    return sorted(set(hashtags))\n",
        "\n",
        "post = find_hashtags(\"i love to wonder why skys are blue #sky #blue #world #loveu2000\")\n",
        "hashtags = [hashtag for hashtag in post]\n",
        "if hashtags:\n",
        "    print(\"Your extracted Hashtags are here:\")\n",
        "    for tag in hashtags:\n",
        "        print(tag)\n",
        "else:\n",
        "    print(\"No hashtags found! :(\")"
      ],
      "metadata": {
        "colab": {
          "base_uri": "https://localhost:8080/"
        },
        "id": "nTohwHUzkJwq",
        "outputId": "6252b506-d3d0-479d-93de-587ecbbf0555"
      },
      "execution_count": 29,
      "outputs": [
        {
          "output_type": "stream",
          "name": "stdout",
          "text": [
            "Your extracted Hashtags are here:\n",
            "#blue\n",
            "#loveu2000\n",
            "#sky\n",
            "#world\n"
          ]
        }
      ]
    }
  ]
}